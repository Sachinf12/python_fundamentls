{
 "cells": [
  {
   "cell_type": "code",
   "execution_count": null,
   "metadata": {},
   "outputs": [],
   "source": [
    "continuation with lists:"
   ]
  },
  {
   "cell_type": "code",
   "execution_count": null,
   "metadata": {},
   "outputs": [],
   "source": []
  },
  {
   "cell_type": "code",
   "execution_count": 3,
   "metadata": {},
   "outputs": [],
   "source": [
    "students = ['ramesh','naveed','zaheer','priyanka','udit','imran','shafia']"
   ]
  },
  {
   "cell_type": "code",
   "execution_count": 4,
   "metadata": {},
   "outputs": [
    {
     "name": "stdout",
     "output_type": "stream",
     "text": [
      "['ramesh', 'naveed', 'zaheer', 'priyanka', 'udit', 'imran', 'shafia']\n"
     ]
    }
   ],
   "source": [
    "print(students)"
   ]
  },
  {
   "cell_type": "code",
   "execution_count": 5,
   "metadata": {},
   "outputs": [
    {
     "data": {
      "text/plain": [
       "list"
      ]
     },
     "execution_count": 5,
     "metadata": {},
     "output_type": "execute_result"
    }
   ],
   "source": [
    "type(students)"
   ]
  },
  {
   "cell_type": "code",
   "execution_count": null,
   "metadata": {},
   "outputs": [],
   "source": []
  },
  {
   "cell_type": "code",
   "execution_count": null,
   "metadata": {},
   "outputs": [],
   "source": [
    "# req : iwant to appreciate the above students for joining in the session regularly on time...."
   ]
  },
  {
   "cell_type": "code",
   "execution_count": null,
   "metadata": {},
   "outputs": [],
   "source": []
  },
  {
   "cell_type": "code",
   "execution_count": 6,
   "metadata": {},
   "outputs": [
    {
     "name": "stdout",
     "output_type": "stream",
     "text": [
      "keep up the good work, ramesh\n"
     ]
    }
   ],
   "source": [
    "print(f\"keep up the good work, {students[0]}\")"
   ]
  },
  {
   "cell_type": "code",
   "execution_count": 8,
   "metadata": {},
   "outputs": [
    {
     "name": "stdout",
     "output_type": "stream",
     "text": [
      "keep up the good work, naveed\n"
     ]
    }
   ],
   "source": [
    "print(f\"keep up the good work, {students[1]}\")"
   ]
  },
  {
   "cell_type": "code",
   "execution_count": 9,
   "metadata": {},
   "outputs": [
    {
     "name": "stdout",
     "output_type": "stream",
     "text": [
      "keep up the good work, zaheer\n"
     ]
    }
   ],
   "source": [
    "print(f\"keep up the good work, {students[2]}\")"
   ]
  },
  {
   "cell_type": "code",
   "execution_count": null,
   "metadata": {},
   "outputs": [],
   "source": []
  },
  {
   "cell_type": "code",
   "execution_count": null,
   "metadata": {},
   "outputs": [],
   "source": [
    "introducton to for loops in python:"
   ]
  },
  {
   "cell_type": "code",
   "execution_count": null,
   "metadata": {},
   "outputs": [],
   "source": [
    "#general syntax of a for loop:"
   ]
  },
  {
   "cell_type": "code",
   "execution_count": null,
   "metadata": {},
   "outputs": [],
   "source": [
    "for tempvar in mainvar :  #\n",
    "    print(tempvar)    # indentation"
   ]
  },
  {
   "cell_type": "code",
   "execution_count": 10,
   "metadata": {},
   "outputs": [
    {
     "name": "stdout",
     "output_type": "stream",
     "text": [
      "keep up the goodwork, Ramesh\n",
      "keep up the goodwork, Naveed\n",
      "keep up the goodwork, Zaheer\n",
      "keep up the goodwork, Priyanka\n",
      "keep up the goodwork, Udit\n",
      "keep up the goodwork, Imran\n",
      "keep up the goodwork, Shafia\n"
     ]
    }
   ],
   "source": [
    "for x in students:\n",
    "    print(f\"keep up the goodwork, {x.title()}\")"
   ]
  },
  {
   "cell_type": "code",
   "execution_count": 11,
   "metadata": {},
   "outputs": [
    {
     "name": "stdout",
     "output_type": "stream",
     "text": [
      "keep up the goodwork, Ramesh\n",
      "keep up the goodwork, Naveed\n",
      "keep up the goodwork, Zaheer\n",
      "keep up the goodwork, Priyanka\n",
      "keep up the goodwork, Udit\n",
      "keep up the goodwork, Imran\n",
      "keep up the goodwork, Shafia\n"
     ]
    }
   ],
   "source": [
    "for test in students:\n",
    "    print(f\"keep up the goodwork, {test.title()}\")"
   ]
  },
  {
   "cell_type": "code",
   "execution_count": null,
   "metadata": {},
   "outputs": [],
   "source": []
  },
  {
   "cell_type": "code",
   "execution_count": null,
   "metadata": {},
   "outputs": [],
   "source": [
    "# enhancement of the code....\n",
    "\n",
    "#req : i want to tell them that i will be lookimg forward of todays practice file as well.."
   ]
  },
  {
   "cell_type": "code",
   "execution_count": 13,
   "metadata": {},
   "outputs": [
    {
     "name": "stdout",
     "output_type": "stream",
     "text": [
      "keep up the goodwork, Ramesh\n",
      "i will be looking to recive your practice files, Ramesh\n",
      "keep up the goodwork, Naveed\n",
      "i will be looking to recive your practice files, Naveed\n",
      "keep up the goodwork, Zaheer\n",
      "i will be looking to recive your practice files, Zaheer\n",
      "keep up the goodwork, Priyanka\n",
      "i will be looking to recive your practice files, Priyanka\n",
      "keep up the goodwork, Udit\n",
      "i will be looking to recive your practice files, Udit\n",
      "keep up the goodwork, Imran\n",
      "i will be looking to recive your practice files, Imran\n",
      "keep up the goodwork, Shafia\n",
      "i will be looking to recive your practice files, Shafia\n"
     ]
    }
   ],
   "source": [
    "for test in students:\n",
    "    print(f\"keep up the goodwork, {test.title()}\")\n",
    "    print(f\"i will be looking to recive your practice files, {test.title()}\")   # writing in the loop."
   ]
  },
  {
   "cell_type": "code",
   "execution_count": null,
   "metadata": {},
   "outputs": [],
   "source": [
    "# improvising the code"
   ]
  },
  {
   "cell_type": "code",
   "execution_count": 14,
   "metadata": {},
   "outputs": [
    {
     "name": "stdout",
     "output_type": "stream",
     "text": [
      "keep up the goodwork, Ramesh\n",
      "i will be looking to recive your practice files, Ramesh.\n",
      "\n",
      "keep up the goodwork, Naveed\n",
      "i will be looking to recive your practice files, Naveed.\n",
      "\n",
      "keep up the goodwork, Zaheer\n",
      "i will be looking to recive your practice files, Zaheer.\n",
      "\n",
      "keep up the goodwork, Priyanka\n",
      "i will be looking to recive your practice files, Priyanka.\n",
      "\n",
      "keep up the goodwork, Udit\n",
      "i will be looking to recive your practice files, Udit.\n",
      "\n",
      "keep up the goodwork, Imran\n",
      "i will be looking to recive your practice files, Imran.\n",
      "\n",
      "keep up the goodwork, Shafia\n",
      "i will be looking to recive your practice files, Shafia.\n",
      "\n"
     ]
    }
   ],
   "source": [
    "for test in students:\n",
    "    print(f\"keep up the goodwork, {test.title()}\")\n",
    "    print(f\"i will be looking to recive your practice files, {test.title()}.\\n\")"
   ]
  },
  {
   "cell_type": "code",
   "execution_count": 16,
   "metadata": {},
   "outputs": [
    {
     "name": "stdout",
     "output_type": "stream",
     "text": [
      "keep up the goodwork, Ramesh\n",
      "i will be looking to recive your practice files, Ramesh.\n",
      "\n",
      "keep up the goodwork, Naveed\n",
      "i will be looking to recive your practice files, Naveed.\n",
      "\n",
      "keep up the goodwork, Zaheer\n",
      "i will be looking to recive your practice files, Zaheer.\n",
      "\n",
      "keep up the goodwork, Priyanka\n",
      "i will be looking to recive your practice files, Priyanka.\n",
      "\n",
      "keep up the goodwork, Udit\n",
      "i will be looking to recive your practice files, Udit.\n",
      "\n",
      "keep up the goodwork, Imran\n",
      "i will be looking to recive your practice files, Imran.\n",
      "\n",
      "keep up the goodwork, Shafia\n",
      "i will be looking to recive your practice files, Shafia.\n",
      "\n",
      "Thank you all for joining in the python session\n"
     ]
    }
   ],
   "source": [
    "for test in students:\n",
    "    print(f\"keep up the goodwork, {test.title()}\")\n",
    "    print(f\"i will be looking to recive your practice files, {test.title()}.\\n\")\n",
    "print(\"Thank you all for joining in the python session\")"
   ]
  },
  {
   "cell_type": "code",
   "execution_count": null,
   "metadata": {},
   "outputs": [],
   "source": []
  },
  {
   "cell_type": "code",
   "execution_count": null,
   "metadata": {},
   "outputs": [],
   "source": [
    "Impllimentation of range function :"
   ]
  },
  {
   "cell_type": "code",
   "execution_count": null,
   "metadata": {},
   "outputs": [],
   "source": [
    "# req : I want to print the till 20"
   ]
  },
  {
   "cell_type": "code",
   "execution_count": 17,
   "metadata": {},
   "outputs": [
    {
     "name": "stdout",
     "output_type": "stream",
     "text": [
      "[0, 1, 2, 3, 4, 5, 6, 7, 8, 9, 10, 11, 12, 13, 14, 15, 16, 17, 18, 19]\n"
     ]
    }
   ],
   "source": [
    "numbers = list(range(0,20))     # last value is always exclusive.....!\n",
    "\n",
    "print(numbers)"
   ]
  },
  {
   "cell_type": "code",
   "execution_count": null,
   "metadata": {},
   "outputs": [],
   "source": []
  },
  {
   "cell_type": "code",
   "execution_count": null,
   "metadata": {},
   "outputs": [],
   "source": [
    "# i want to print even numbers till 30 by using a list?"
   ]
  },
  {
   "cell_type": "code",
   "execution_count": 18,
   "metadata": {},
   "outputs": [
    {
     "name": "stdout",
     "output_type": "stream",
     "text": [
      "[2, 4, 6, 8, 10, 12, 14, 16, 18, 20, 22, 24, 26, 28]\n"
     ]
    }
   ],
   "source": [
    "even_numbers = list(range(2,30,2))\n",
    "\n",
    "print(even_numbers)"
   ]
  },
  {
   "cell_type": "code",
   "execution_count": null,
   "metadata": {},
   "outputs": [],
   "source": []
  }
 ],
 "metadata": {
  "kernelspec": {
   "display_name": "Python 3",
   "language": "python",
   "name": "python3"
  },
  "language_info": {
   "codemirror_mode": {
    "name": "ipython",
    "version": 3
   },
   "file_extension": ".py",
   "mimetype": "text/x-python",
   "name": "python",
   "nbconvert_exporter": "python",
   "pygments_lexer": "ipython3",
   "version": "3.8.5"
  }
 },
 "nbformat": 4,
 "nbformat_minor": 4
}
